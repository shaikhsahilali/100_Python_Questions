{
 "cells": [
  {
   "cell_type": "markdown",
   "id": "454e26ab-b4ed-45bb-8e54-c39d6c331267",
   "metadata": {},
   "source": [
    "# 71–85: Object-Oriented Programming (OOPs) in Python"
   ]
  },
  {
   "cell_type": "code",
   "execution_count": 4,
   "id": "530c85ec-156b-44f9-abb2-6c60ef3fbeb6",
   "metadata": {},
   "outputs": [
    {
     "name": "stdout",
     "output_type": "stream",
     "text": [
      "Alice\n"
     ]
    }
   ],
   "source": [
    "# 71. Create a class and a object.\n",
    "class person:\n",
    "    def __init__(self,name):\n",
    "        self.name = name\n",
    "p = person(\"Alice\")\n",
    "print(p.name)"
   ]
  },
  {
   "cell_type": "code",
   "execution_count": 5,
   "id": "8050de6b-c02e-4ca3-9375-366ce23c079e",
   "metadata": {},
   "outputs": [
    {
     "name": "stdout",
     "output_type": "stream",
     "text": [
      "Hello,my name is bob\n"
     ]
    }
   ],
   "source": [
    "# 72. Add Instance method to a Class.\n",
    "class person:\n",
    "    def __init__(self,name):\n",
    "        self.name = name\n",
    "\n",
    "    def greet(self):\n",
    "        return f\"Hello,my name is {self.name}\"\n",
    "\n",
    "p=person(\"bob\")\n",
    "print(p.greet())"
   ]
  },
  {
   "cell_type": "code",
   "execution_count": 8,
   "id": "85dddb29-a4b1-4dea-9432-993704466ffb",
   "metadata": {},
   "outputs": [
    {
     "name": "stdout",
     "output_type": "stream",
     "text": [
      "4\n"
     ]
    }
   ],
   "source": [
    "# 73.Use Class variables.\n",
    "class car:\n",
    "    wheels = 4\n",
    "\n",
    "    def __init__(self,model):\n",
    "        self.model=model\n",
    "\n",
    "c=car(\"Toyota\")\n",
    "print(car.wheels)"
   ]
  },
  {
   "cell_type": "code",
   "execution_count": 9,
   "id": "91a413f6-26b9-4ca5-9ea0-f2d18300235f",
   "metadata": {},
   "outputs": [
    {
     "name": "stdout",
     "output_type": "stream",
     "text": [
      "Bark\n"
     ]
    }
   ],
   "source": [
    "# 74. Demonstrate inheritance.\n",
    "class Animal:\n",
    "    def speak(self):\n",
    "        return \"Animal Sound\"\n",
    "class dog:\n",
    "    def speak(self):\n",
    "        return \"Bark\"\n",
    "d=dog()\n",
    "print(d.speak())"
   ]
  },
  {
   "cell_type": "code",
   "execution_count": 5,
   "id": "5da31c3e-551d-4192-a67c-05551ef450e2",
   "metadata": {},
   "outputs": [
    {
     "name": "stdout",
     "output_type": "stream",
     "text": [
      "Child Constructor\n",
      "Parent Constructor\n"
     ]
    }
   ],
   "source": [
    "# 75. Use super() in inheritance.\n",
    "class Parent:\n",
    "    def __init__(self):\n",
    "        print(\"Parent Constructor\")\n",
    "\n",
    "class child(Parent):\n",
    "    def __init__(self):\n",
    "        super().__init__\n",
    "        print(\"Child Constructor\")\n",
    "\n",
    "c=child()\n",
    "p=Parent()\n",
    "    "
   ]
  },
  {
   "cell_type": "code",
   "execution_count": 11,
   "id": "928ab461-e629-4ecd-b9c3-7868facbc68e",
   "metadata": {},
   "outputs": [
    {
     "name": "stdout",
     "output_type": "stream",
     "text": [
      "2\n"
     ]
    }
   ],
   "source": [
    "# 76. Use Property Decorators.\n",
    "class circle:\n",
    "    def __init__(self,radius):\n",
    "        self._radius = radius\n",
    "    @property\n",
    "    def radius(self):\n",
    "        return self._radius\n",
    "\n",
    "c=circle(2)\n",
    "print(c.radius)"
   ]
  },
  {
   "cell_type": "code",
   "execution_count": 13,
   "id": "215c4423-8f15-4dcf-8a76-b55cfad8bdea",
   "metadata": {},
   "outputs": [
    {
     "name": "stdout",
     "output_type": "stream",
     "text": [
      "hidden\n"
     ]
    }
   ],
   "source": [
    "# 77.Private variables using name mangling.\n",
    "class secret:\n",
    "    def __init__(self):\n",
    "        self.__data=\"hidden\"\n",
    "\n",
    "s=secret()\n",
    "print(s._secret__data)"
   ]
  },
  {
   "cell_type": "code",
   "execution_count": 21,
   "id": "980f503a-dd08-41b9-a722-36436a29652c",
   "metadata": {},
   "outputs": [
    {
     "name": "stdout",
     "output_type": "stream",
     "text": [
      "5\n",
      "8\n"
     ]
    }
   ],
   "source": [
    "# 78.Method Overloading using default arguments.\n",
    "class calculator:\n",
    "    def add(self,a,b=0):\n",
    "        return a+b\n",
    "\n",
    "c=calculator()\n",
    "print(c.add(5))\n",
    "print(c.add(5,3))\n"
   ]
  },
  {
   "cell_type": "code",
   "execution_count": 23,
   "id": "c2bf9040-d841-408c-919f-5d992dea3378",
   "metadata": {},
   "outputs": [
    {
     "name": "stdout",
     "output_type": "stream",
     "text": [
      "B\n"
     ]
    }
   ],
   "source": [
    "# 79.Method Overriding.\n",
    "class A:\n",
    "    def show(self):\n",
    "        return \"A\"\n",
    "\n",
    "class B(A):\n",
    "    def show (self):\n",
    "        return \"B\"\n",
    "\n",
    "print(B().show())"
   ]
  },
  {
   "cell_type": "code",
   "execution_count": 25,
   "id": "06bcaf62-b21b-4da4-a45a-048fb1fb7899",
   "metadata": {},
   "outputs": [
    {
     "name": "stdout",
     "output_type": "stream",
     "text": [
      "book:Python\n"
     ]
    }
   ],
   "source": [
    "# 80.Use __str__ method.\n",
    "class book:\n",
    "    def __init__(self,title):\n",
    "        self.title=title\n",
    "    def __str__(self):\n",
    "        return f\"book:{self.title}\"\n",
    "\n",
    "b=book(\"Python\")\n",
    "print(b)"
   ]
  },
  {
   "cell_type": "code",
   "execution_count": 1,
   "id": "9099758f-7d7f-4fc8-a301-440848970508",
   "metadata": {},
   "outputs": [
    {
     "name": "stdout",
     "output_type": "stream",
     "text": [
      "Object Created\n",
      "Object destroyed\n"
     ]
    }
   ],
   "source": [
    "# 81.Use __init__ and __del__ methods.\n",
    "class lifecycle:\n",
    "    def __init__(self):\n",
    "        print(\"Object Created\")\n",
    "    def __del__(self):\n",
    "        print(\"Object destroyed\")\n",
    "obj = lifecycle()\n",
    "del obj"
   ]
  },
  {
   "cell_type": "code",
   "execution_count": 11,
   "id": "19b72315-22ec-4296-b6f8-1abf62b46243",
   "metadata": {},
   "outputs": [
    {
     "name": "stdout",
     "output_type": "stream",
     "text": [
      "True\n",
      "True\n"
     ]
    }
   ],
   "source": [
    "# 82. Use of isinstance() and issubclass().\n",
    "print(isinstance(4,int))\n",
    "print(issubclass(bool,int))"
   ]
  },
  {
   "cell_type": "code",
   "execution_count": 13,
   "id": "6e2c3d67-71c8-498c-83cc-9e791170a511",
   "metadata": {},
   "outputs": [
    {
     "name": "stdout",
     "output_type": "stream",
     "text": [
      "7\n"
     ]
    }
   ],
   "source": [
    "# 83.Create static method.\n",
    "class math:\n",
    "    @staticmethod\n",
    "    def add (a,b):\n",
    "        return a+b\n",
    "\n",
    "print(math.add(3,4))\n",
    "    "
   ]
  },
  {
   "cell_type": "code",
   "execution_count": 17,
   "id": "f8fd0ea1-3bd0-4f4e-b0da-91a9e6c35f18",
   "metadata": {},
   "outputs": [
    {
     "name": "stdout",
     "output_type": "stream",
     "text": [
      "medium\n"
     ]
    }
   ],
   "source": [
    "# 84.Create a class method.\n",
    "class pizza:\n",
    "    def __init__(self,size):\n",
    "        self.size = size\n",
    "    @classmethod\n",
    "    def medium(cls):\n",
    "        return cls(\"medium\")\n",
    "\n",
    "p = pizza.medium()\n",
    "print(p.size)"
   ]
  },
  {
   "cell_type": "code",
   "execution_count": 21,
   "id": "8d19e601-6a74-416c-b76f-d6109ace1a94",
   "metadata": {},
   "outputs": [
    {
     "name": "stdout",
     "output_type": "stream",
     "text": [
      "16\n"
     ]
    }
   ],
   "source": [
    "# 85.Create an abstract class.\n",
    "from abc import ABC, abstractmethod\n",
    "\n",
    "class shape(ABC):\n",
    "    @abstractmethod\n",
    "    def area(self):pass\n",
    "\n",
    "class Square(shape):\n",
    "    def __init__(self,side):\n",
    "        self.side=side\n",
    "\n",
    "    def area (self):\n",
    "        return self.side ** 2\n",
    "\n",
    "s = Square(4)\n",
    "print(s.area())\n",
    "    "
   ]
  },
  {
   "cell_type": "markdown",
   "id": "5c9c81a3-aa9e-4f6d-b105-7770f87b7f1d",
   "metadata": {},
   "source": [
    "---"
   ]
  },
  {
   "cell_type": "markdown",
   "id": "5edc556d-b0a9-4bcb-aa45-80072ff572f5",
   "metadata": {},
   "source": [
    "---"
   ]
  }
 ],
 "metadata": {
  "kernelspec": {
   "display_name": "Python [conda env:anaconda3-Sahil]",
   "language": "python",
   "name": "conda-env-anaconda3-Sahil-py"
  },
  "language_info": {
   "codemirror_mode": {
    "name": "ipython",
    "version": 3
   },
   "file_extension": ".py",
   "mimetype": "text/x-python",
   "name": "python",
   "nbconvert_exporter": "python",
   "pygments_lexer": "ipython3",
   "version": "3.10.16"
  }
 },
 "nbformat": 4,
 "nbformat_minor": 5
}
