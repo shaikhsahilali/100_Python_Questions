{
 "cells": [
  {
   "cell_type": "markdown",
   "id": "be618901-7114-4a78-a9b5-c3940460ba44",
   "metadata": {},
   "source": [
    "# String & Regex Functions"
   ]
  },
  {
   "cell_type": "code",
   "execution_count": 2,
   "id": "8a670006-ca74-487c-ba9b-6f1304a9affa",
   "metadata": {},
   "outputs": [
    {
     "name": "stdout",
     "output_type": "stream",
     "text": [
      "noob is lobby\n"
     ]
    }
   ],
   "source": [
    "# 36. Reverse words in sentence.\n",
    "sentence = \"lobby is noob\"\n",
    "print(\" \".join(reversed(sentence.split())))"
   ]
  },
  {
   "cell_type": "code",
   "execution_count": 4,
   "id": "9393b07d-8016-4876-8869-38ff607f1d07",
   "metadata": {},
   "outputs": [
    {
     "name": "stdout",
     "output_type": "stream",
     "text": [
      "blue is sky the\n"
     ]
    }
   ],
   "source": [
    "# 2nd Method\n",
    "def reverse_words(s):\n",
    "    return ' '.join(s.split()[::-1])\n",
    "\n",
    "# Example usage\n",
    "input_str = \"the sky is blue\"\n",
    "print(reverse_words(input_str))  # Output: \"blue is sky the\"\n"
   ]
  },
  {
   "cell_type": "code",
   "execution_count": 5,
   "id": "b363e4c7-5255-4178-b434-e27a31a49bd7",
   "metadata": {},
   "outputs": [
    {
     "name": "stdout",
     "output_type": "stream",
     "text": [
      "4\n"
     ]
    }
   ],
   "source": [
    "# 37.Count the number of words in a string.\n",
    "words=\"the sky is blue\"\n",
    "print(len(words.split()))"
   ]
  },
  {
   "cell_type": "code",
   "execution_count": 6,
   "id": "f29f393f-c1e7-4391-82fd-9883bd6669bb",
   "metadata": {},
   "outputs": [
    {
     "name": "stdout",
     "output_type": "stream",
     "text": [
      "hello world\n"
     ]
    }
   ],
   "source": [
    "# 38. Remove all punctuations from a string.\n",
    "import string\n",
    "s=\"hello, world!\"\n",
    "print(s.translate(str.maketrans('','',string.punctuation)))"
   ]
  },
  {
   "cell_type": "code",
   "execution_count": 7,
   "id": "5a13b26b-9b9a-43b7-a14e-2527e405cb5a",
   "metadata": {},
   "outputs": [
    {
     "name": "stdout",
     "output_type": "stream",
     "text": [
      "True\n"
     ]
    }
   ],
   "source": [
    "# 39. Check if string contains a substring.\n",
    "print(\"Python\" in \"Python is Fun \")"
   ]
  },
  {
   "cell_type": "code",
   "execution_count": 8,
   "id": "59d83f74-c584-416d-a0c4-45a942ad191c",
   "metadata": {},
   "outputs": [
    {
     "name": "stdout",
     "output_type": "stream",
     "text": [
      "['12345']\n"
     ]
    }
   ],
   "source": [
    "# 40.Find all digits in a string using regex.\n",
    "import re\n",
    "s=\"My number is 12345\"\n",
    "print(re.findall(r'\\d+',s))"
   ]
  },
  {
   "cell_type": "code",
   "execution_count": 12,
   "id": "399dc976-352a-4eda-b256-198c9a34681d",
   "metadata": {},
   "outputs": [
    {
     "name": "stdout",
     "output_type": "stream",
     "text": [
      "True\n"
     ]
    }
   ],
   "source": [
    "# 41. Validate an email address using regex.\n",
    "import re\n",
    "email = \"user@23gmail.com\"\n",
    "print(bool(re.match(r'^[\\w\\.-]+@[\\w\\.-]+\\.\\w+$', email)))"
   ]
  },
  {
   "cell_type": "code",
   "execution_count": 13,
   "id": "a00e46db-6cbf-459a-81e2-3dfaf37b2a02",
   "metadata": {},
   "outputs": [
    {
     "name": "stdout",
     "output_type": "stream",
     "text": [
      "hello!_this_is_my_practice_questions\n"
     ]
    }
   ],
   "source": [
    "# 42.Replace all spaces in in string with underscore.\n",
    "s=\"hello! this is my practice questions\"\n",
    "print(s.replace(\" \",\"_\"))"
   ]
  },
  {
   "cell_type": "code",
   "execution_count": 14,
   "id": "2e37fc40-17c8-460c-9562-b93c883b0064",
   "metadata": {},
   "outputs": [
    {
     "name": "stdout",
     "output_type": "stream",
     "text": [
      "Hello! This Is My Practice Questions\n"
     ]
    }
   ],
   "source": [
    "# 43. Capitalize the first letter of each word.\n",
    "s=\"hello! this is my practice questions\"\n",
    "print(s.title())"
   ]
  },
  {
   "cell_type": "code",
   "execution_count": 1,
   "id": "7a6a71d9-d46c-43dc-81b0-6d590e1bf6ff",
   "metadata": {},
   "outputs": [
    {
     "name": "stdout",
     "output_type": "stream",
     "text": [
      "Counter({'i': 4, 's': 4, 'p': 2, 'm': 1})\n"
     ]
    }
   ],
   "source": [
    "# 44.Find Frequency of each character in string.\n",
    "from collections import Counter\n",
    "s=\"mississippi\"\n",
    "print(Counter(s))"
   ]
  },
  {
   "cell_type": "code",
   "execution_count": 5,
   "id": "5c9d5b58-0218-499f-a120-6d71c71e66c9",
   "metadata": {},
   "outputs": [
    {
     "name": "stdout",
     "output_type": "stream",
     "text": [
      "True\n"
     ]
    }
   ],
   "source": [
    "# 45.Check if the String contains any alphabets\n",
    "print(\"Python\".isalpha())"
   ]
  },
  {
   "cell_type": "code",
   "execution_count": 6,
   "id": "84fa96df-b293-409c-916e-bd22a3b23f00",
   "metadata": {},
   "outputs": [
    {
     "name": "stdout",
     "output_type": "stream",
     "text": [
      "hello\n"
     ]
    }
   ],
   "source": [
    "# 46.Remove White spaces from start to end.\n",
    "s=\" hello \"\n",
    "print(s.strip())"
   ]
  },
  {
   "cell_type": "code",
   "execution_count": 7,
   "id": "dfcdf050-15f4-4ff2-aa1b-0f9dfca31f90",
   "metadata": {},
   "outputs": [
    {
     "name": "stdout",
     "output_type": "stream",
     "text": [
      "HELLO\n"
     ]
    }
   ],
   "source": [
    "# 47.Convert string to upper case.\n",
    "print(\"hello\".upper())"
   ]
  },
  {
   "cell_type": "code",
   "execution_count": 8,
   "id": "464639ab-6520-4acc-b52f-c848f0dad0d8",
   "metadata": {},
   "outputs": [
    {
     "name": "stdout",
     "output_type": "stream",
     "text": [
      "hello\n"
     ]
    }
   ],
   "source": [
    "# 48.Convert string to lower case.\n",
    "print(\"HELLO\".lower())"
   ]
  },
  {
   "cell_type": "code",
   "execution_count": 14,
   "id": "65921bf2-5bca-44e2-b463-8339f3b24fb2",
   "metadata": {},
   "outputs": [
    {
     "name": "stdout",
     "output_type": "stream",
     "text": [
      "['one', 'two', 'three', 'four']\n"
     ]
    }
   ],
   "source": [
    "# 49.Split string on multiple delimeters.\n",
    "import re\n",
    "s=\"one,two;three four\"\n",
    "print(re.split(r'[,;\\s]', s))"
   ]
  },
  {
   "cell_type": "code",
   "execution_count": 17,
   "id": "33bd2270-7df9-4ab0-adc9-d81772f1c513",
   "metadata": {},
   "outputs": [
    {
     "name": "stdout",
     "output_type": "stream",
     "text": [
      "progamin\n"
     ]
    }
   ],
   "source": [
    "# 50.Remove Duplicate character from string.\n",
    "s=\"programming\"\n",
    "print(\"\".join(sorted(set(s),key=s.index)))"
   ]
  },
  {
   "cell_type": "code",
   "execution_count": null,
   "id": "1f6f6a9b-1eea-4e14-8ec9-b9e7017bb283",
   "metadata": {},
   "outputs": [],
   "source": []
  }
 ],
 "metadata": {
  "kernelspec": {
   "display_name": "Python 3 (ipykernel)",
   "language": "python",
   "name": "python3"
  },
  "language_info": {
   "codemirror_mode": {
    "name": "ipython",
    "version": 3
   },
   "file_extension": ".py",
   "mimetype": "text/x-python",
   "name": "python",
   "nbconvert_exporter": "python",
   "pygments_lexer": "ipython3",
   "version": "3.10.16"
  }
 },
 "nbformat": 4,
 "nbformat_minor": 5
}
