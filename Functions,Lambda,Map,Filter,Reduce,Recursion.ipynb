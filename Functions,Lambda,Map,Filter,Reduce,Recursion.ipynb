{
 "cells": [
  {
   "cell_type": "markdown",
   "id": "0aa0a7f7-af43-48fc-8c11-2939c3028374",
   "metadata": {},
   "source": [
    "# 51–70: Functions, Lambda, Map, Filter, Reduce, Recursion"
   ]
  },
  {
   "cell_type": "code",
   "execution_count": 1,
   "id": "cc17c549-fabd-41f7-a579-75704276c01a",
   "metadata": {},
   "outputs": [
    {
     "name": "stdout",
     "output_type": "stream",
     "text": [
      "True\n"
     ]
    }
   ],
   "source": [
    " # 51.Write a function to check if a number is even?\n",
    "\n",
    "def is_even(n):\n",
    "    return n % 2 == 0\n",
    "print(is_even(4))    "
   ]
  },
  {
   "cell_type": "code",
   "execution_count": 2,
   "id": "2e3a0743-610a-4bd9-bb98-d94a4cacc46a",
   "metadata": {},
   "outputs": [
    {
     "name": "stdout",
     "output_type": "stream",
     "text": [
      "49\n"
     ]
    }
   ],
   "source": [
    "# 52.Lambda Function to square a number?\n",
    "\n",
    "square = lambda x: x*x\n",
    "print(square(7))"
   ]
  },
  {
   "cell_type": "code",
   "execution_count": 3,
   "id": "b18e4981-5a54-4dc2-a8a5-d85eb6d5ce4f",
   "metadata": {},
   "outputs": [
    {
     "name": "stdout",
     "output_type": "stream",
     "text": [
      "[1, 4, 9]\n"
     ]
    }
   ],
   "source": [
    "# 53.Use map() to double elements in a list?\n",
    "\n",
    "nums=[1,2,3]\n",
    "print(list(map(lambda x: x*x, nums)))"
   ]
  },
  {
   "cell_type": "code",
   "execution_count": 4,
   "id": "7632955c-3dc9-4f37-b382-0bd091c9d6d1",
   "metadata": {},
   "outputs": [
    {
     "name": "stdout",
     "output_type": "stream",
     "text": [
      "[2, 4]\n"
     ]
    }
   ],
   "source": [
    "# 54.Use filter() to keep only even numbers\n",
    "\n",
    "nums=[1,2,3,4]\n",
    "print(list(filter(lambda x:x % 2==0,nums)))"
   ]
  },
  {
   "cell_type": "code",
   "execution_count": 5,
   "id": "30cec6da-76b8-4c9f-ae41-d6cc13b5de62",
   "metadata": {},
   "outputs": [
    {
     "name": "stdout",
     "output_type": "stream",
     "text": [
      "24\n"
     ]
    }
   ],
   "source": [
    "# 55.Use reduce() to compute the product of elements?\n",
    "from functools import reduce\n",
    "nums=[1,2,3,4]\n",
    "print(reduce(lambda x,y: x * y,nums))"
   ]
  },
  {
   "cell_type": "code",
   "execution_count": 6,
   "id": "95fae394-d81b-4ffa-b80c-421498d9265b",
   "metadata": {},
   "outputs": [
    {
     "name": "stdout",
     "output_type": "stream",
     "text": [
      "120\n"
     ]
    }
   ],
   "source": [
    "# 56.Write a recursive function for factorial?\n",
    "def factorial(n):\n",
    "    return 1 if n == 0 else n*factorial(n - 1)\n",
    "print(factorial(5))     "
   ]
  },
  {
   "cell_type": "code",
   "execution_count": 7,
   "id": "048f5133-149e-4645-97b1-8353b57723ae",
   "metadata": {},
   "outputs": [
    {
     "name": "stdout",
     "output_type": "stream",
     "text": [
      "28657\n"
     ]
    }
   ],
   "source": [
    "# 57.Recursive function for Fibonacci?\n",
    "\n",
    "def fib(n):\n",
    "    return n if n <= 1 else fib(n-1)+fib(n-2)\n",
    "print(fib(23))"
   ]
  },
  {
   "cell_type": "code",
   "execution_count": 8,
   "id": "90c70c81-c30f-468a-836f-7b66a7816a41",
   "metadata": {},
   "outputs": [
    {
     "name": "stdout",
     "output_type": "stream",
     "text": [
      "Hello,Alice!\n",
      "Hello,Guest!\n"
     ]
    }
   ],
   "source": [
    "# 58.Recursive function for Fibonacci?\n",
    "def greet(name=\"Guest\"):\n",
    "    return f\"Hello,{name}!\"\n",
    "print(greet(\"Alice\"))\n",
    "print(greet())"
   ]
  },
  {
   "cell_type": "code",
   "execution_count": 9,
   "id": "b88fb2cd-f3d7-4c5a-a03a-9ce7ef3af771",
   "metadata": {},
   "outputs": [
    {
     "name": "stdout",
     "output_type": "stream",
     "text": [
      "10\n"
     ]
    }
   ],
   "source": [
    "# 59.unction with variable-length arguments?\n",
    "\n",
    "def total(*args):\n",
    "    return  sum(args)\n",
    "print(total(1,2,3,4))"
   ]
  },
  {
   "cell_type": "code",
   "execution_count": 10,
   "id": "296a0d96-6ef2-482a-b4c6-c2bce5ae7316",
   "metadata": {},
   "outputs": [
    {
     "name": "stdout",
     "output_type": "stream",
     "text": [
      "{'name': 'John', 'age': 25}\n"
     ]
    }
   ],
   "source": [
    "# 60.Function with keyword arguments?\n",
    "def user_info(**kwargs):\n",
    "    return kwargs\n",
    "print(user_info(name=\"John\",age=25))"
   ]
  },
  {
   "cell_type": "code",
   "execution_count": 11,
   "id": "363f6a13-6dd2-46e7-8263-0c6831cd1dba",
   "metadata": {},
   "outputs": [
    {
     "name": "stdout",
     "output_type": "stream",
     "text": [
      "Inner function\n"
     ]
    }
   ],
   "source": [
    "# 61.Nested Function Example\n",
    "def outer():\n",
    "    def inner():\n",
    "        return 'Inner function'\n",
    "    return inner()\n",
    "print(outer())"
   ]
  },
  {
   "cell_type": "code",
   "execution_count": 12,
   "id": "bfaea880-00aa-4181-8ce4-ef95c892e8bf",
   "metadata": {},
   "outputs": [
    {
     "name": "stdout",
     "output_type": "stream",
     "text": [
      "False\n",
      "True\n"
     ]
    }
   ],
   "source": [
    "# 62.Use of all() and any() Function.\n",
    "lst=[True,True,False]\n",
    "print(all(lst))\n",
    "print(any(lst))"
   ]
  },
  {
   "cell_type": "code",
   "execution_count": 13,
   "id": "939e7a55-af68-4204-8eaf-a8879046de03",
   "metadata": {},
   "outputs": [
    {
     "name": "stdout",
     "output_type": "stream",
     "text": [
      "True\n"
     ]
    }
   ],
   "source": [
    "# 63.Check if function is callable?\n",
    "print(callable(lambda x: x))"
   ]
  },
  {
   "cell_type": "code",
   "execution_count": 14,
   "id": "5f152922-33b7-4955-a6c0-3328c71a1b33",
   "metadata": {},
   "outputs": [
    {
     "name": "stdout",
     "output_type": "stream",
     "text": [
      "(2, 5, 12)\n"
     ]
    }
   ],
   "source": [
    "# 64.Return multiple values from a function\n",
    "def stats(lst):\n",
    "    return min(lst), max(lst), sum(lst)\n",
    "print(stats([2,3,2,5]))"
   ]
  },
  {
   "cell_type": "code",
   "execution_count": 15,
   "id": "96a22806-b210-4c91-9f66-661eaf29285e",
   "metadata": {},
   "outputs": [
    {
     "name": "stdout",
     "output_type": "stream",
     "text": [
      "hello\n"
     ]
    }
   ],
   "source": [
    "# 65.Create a Decorator function.\n",
    "def decorator(func):\n",
    "    def wrapper():\n",
    "        print(\"Before Function call\")\n",
    "        func()\n",
    "        print(\"After function call\")\n",
    "    return wrapper\n",
    "\n",
    "def say_hello():\n",
    "    print(\"hello\")\n",
    "\n",
    "say_hello()"
   ]
  },
  {
   "cell_type": "code",
   "execution_count": 16,
   "id": "1743bd80-0932-4bc6-80c9-8124fdde79c6",
   "metadata": {},
   "outputs": [
    {
     "name": "stdout",
     "output_type": "stream",
     "text": [
      "[0, 1, 1, 2, 3, 5, 8, 13, 21, 34, 55, 89, 144, 233, 377, 610, 987, 1597, 2584, 4181, 6765, 10946, 17711, 28657, 46368, 75025, 121393, 196418, 317811, 514229, 832040, 1346269, 2178309, 3524578, 5702887, 9227465, 14930352, 24157817]\n"
     ]
    }
   ],
   "source": [
    "# 66.Write a generator for Fibonacci sequence.\n",
    "def gen_fib(n):\n",
    "    a,b = 0,1\n",
    "    for _ in range(n):\n",
    "        yield a\n",
    "        a, b = b, a + b\n",
    "print(list(gen_fib(38)))"
   ]
  },
  {
   "cell_type": "code",
   "execution_count": 17,
   "id": "a0b2f5af-bbba-477d-8f71-20c97d884ad6",
   "metadata": {},
   "outputs": [
    {
     "name": "stdout",
     "output_type": "stream",
     "text": [
      "{'a': 90, 'b': 95}\n"
     ]
    }
   ],
   "source": [
    "# 67.Use of Zip() function\n",
    "names=['a','b']\n",
    "scores=[90,95]\n",
    "print(dict(zip(names,scores)))"
   ]
  },
  {
   "cell_type": "code",
   "execution_count": 18,
   "id": "43a21607-5cf6-483f-860c-07da06856c86",
   "metadata": {},
   "outputs": [
    {
     "name": "stdout",
     "output_type": "stream",
     "text": [
      "0 a\n",
      "1 b\n"
     ]
    }
   ],
   "source": [
    "# 68.Enumerate over a list with index\n",
    "\n",
    "for idx, val in enumerate (['a','b']):\n",
    "    print(idx,val) "
   ]
  },
  {
   "cell_type": "code",
   "execution_count": 19,
   "id": "1d827a5e-d969-4a83-a765-b4eb6379bf73",
   "metadata": {},
   "outputs": [
    {
     "name": "stdout",
     "output_type": "stream",
     "text": [
      "True\n"
     ]
    }
   ],
   "source": [
    "# 69.Check if function returns none\n",
    "def f(): pass\n",
    "print(f() is None)"
   ]
  },
  {
   "cell_type": "code",
   "execution_count": 20,
   "id": "1c40e891-9e42-4007-90f4-8c0c2ed590c3",
   "metadata": {},
   "outputs": [
    {
     "name": "stdout",
     "output_type": "stream",
     "text": [
      "Globals: True\n",
      "locals: True\n"
     ]
    }
   ],
   "source": [
    "# 70.Use global() and locals() to inspect scope.\n",
    "x=10\n",
    "def show():\n",
    "    y = 5\n",
    "    print(\"Globals:\",'x' in globals())\n",
    "    print(\"locals:\",'y' in locals())\n",
    "show()"
   ]
  },
  {
   "cell_type": "code",
   "execution_count": null,
   "id": "725d4054-72d5-4c19-af91-1a4f1152f6bd",
   "metadata": {},
   "outputs": [],
   "source": []
  }
 ],
 "metadata": {
  "kernelspec": {
   "display_name": "Python 3 (ipykernel)",
   "language": "python",
   "name": "python3"
  },
  "language_info": {
   "codemirror_mode": {
    "name": "ipython",
    "version": 3
   },
   "file_extension": ".py",
   "mimetype": "text/x-python",
   "name": "python",
   "nbconvert_exporter": "python",
   "pygments_lexer": "ipython3",
   "version": "3.10.16"
  }
 },
 "nbformat": 4,
 "nbformat_minor": 5
}
