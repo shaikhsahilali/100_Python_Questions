{
 "cells": [
  {
   "cell_type": "markdown",
   "id": "3481edc9-8d1c-4b3b-8273-740b1e6bbbfb",
   "metadata": {},
   "source": [
    "---"
   ]
  },
  {
   "cell_type": "markdown",
   "id": "2f06aae0-5568-48f3-bd8b-5a5c318f05fe",
   "metadata": {},
   "source": [
    "# Practice Questions of Python List, Tuple, Set, Dictionary"
   ]
  },
  {
   "cell_type": "markdown",
   "id": "706b7a4b-d78d-474a-8345-bd650623fa68",
   "metadata": {},
   "source": [
    "---"
   ]
  },
  {
   "cell_type": "code",
   "execution_count": 1,
   "id": "7ac8aed6-6818-4337-b887-d6bef3d944e8",
   "metadata": {},
   "outputs": [
    {
     "name": "stdout",
     "output_type": "stream",
     "text": [
      "6\n"
     ]
    }
   ],
   "source": [
    "# 16.Find the largest Element in a list?\n",
    "l=[1,2,1,4,6]\n",
    "print(max(l))"
   ]
  },
  {
   "cell_type": "code",
   "execution_count": 3,
   "id": "a6756a83-c181-4517-bbb7-dd86845c330e",
   "metadata": {},
   "outputs": [
    {
     "name": "stdout",
     "output_type": "stream",
     "text": [
      "[1, 2, 3, 4]\n"
     ]
    }
   ],
   "source": [
    "# 17.Remove Duplicates from a list?\n",
    "d=[1,2,3,2,4,2,2]\n",
    "print(list(set(d)))"
   ]
  },
  {
   "cell_type": "code",
   "execution_count": 5,
   "id": "b54e509f-c5e6-4199-ad41-e3778087f9ba",
   "metadata": {},
   "outputs": [
    {
     "name": "stdout",
     "output_type": "stream",
     "text": [
      "True\n"
     ]
    }
   ],
   "source": [
    "# 18.Check if two lists are equal?\n",
    "a=[1,2,4,5,3]\n",
    "b=[1,2,4,5,3]\n",
    "print(a == b)"
   ]
  },
  {
   "cell_type": "code",
   "execution_count": 6,
   "id": "56088225-73d5-46e1-8433-0487cc2a275a",
   "metadata": {},
   "outputs": [
    {
     "name": "stdout",
     "output_type": "stream",
     "text": [
      "[1, 2, 2, 3]\n"
     ]
    }
   ],
   "source": [
    "# 19.Flatten a nested list?\n",
    "from itertools import chain\n",
    "nest=[[1,2],[2,3]]\n",
    "flat=list(chain.from_iterable(nest))\n",
    "print(flat)"
   ]
  },
  {
   "cell_type": "code",
   "execution_count": 8,
   "id": "2209f93e-d469-4da6-871e-471cd2632783",
   "metadata": {},
   "outputs": [
    {
     "name": "stdout",
     "output_type": "stream",
     "text": [
      "[(4, 1), (2, 2), (1, 3)]\n"
     ]
    }
   ],
   "source": [
    "# 20.Sort a List of Tuples by the second Element?\n",
    "l=[(1,3),(2,2),(4,1)]\n",
    "print(sorted(l,key=lambda x : x[1]))"
   ]
  },
  {
   "cell_type": "code",
   "execution_count": 11,
   "id": "5518e162-60ca-4616-852c-e866b5e71fa2",
   "metadata": {},
   "outputs": [
    {
     "name": "stdout",
     "output_type": "stream",
     "text": [
      "Counter({2: 3, 3: 2, 1: 1, 4: 1, 5: 1})\n"
     ]
    }
   ],
   "source": [
    "# 21.Find the frequency of elements in a list?\n",
    "from collections import Counter\n",
    "l=[2,1,2,3,4,2,5,3]\n",
    "print(Counter(l))"
   ]
  },
  {
   "cell_type": "code",
   "execution_count": 18,
   "id": "4344fcec-fa04-4fbb-abd3-d13339b958bf",
   "metadata": {},
   "outputs": [
    {
     "data": {
      "text/plain": [
       "[3, 2, 1]"
      ]
     },
     "execution_count": 18,
     "metadata": {},
     "output_type": "execute_result"
    }
   ],
   "source": [
    "# 22.Reverse a List?\n",
    "a=[1,2,3]\n",
    "a[::-1]"
   ]
  },
  {
   "cell_type": "code",
   "execution_count": 22,
   "id": "b9e326c3-6edc-416a-ab12-a6b7335d9dd7",
   "metadata": {},
   "outputs": [
    {
     "name": "stdout",
     "output_type": "stream",
     "text": [
      "[1, 2]\n"
     ]
    }
   ],
   "source": [
    "# 23.Find common elements in two lists?\n",
    "a=[2,5,1]\n",
    "b=[2,1,3]\n",
    "print(list(set(a) & set(b)))"
   ]
  },
  {
   "cell_type": "code",
   "execution_count": 28,
   "id": "232cb252-34fa-445d-b3a9-37c7f1f0b7bc",
   "metadata": {},
   "outputs": [
    {
     "name": "stdout",
     "output_type": "stream",
     "text": [
      "[1, 2, 3, 4]\n"
     ]
    }
   ],
   "source": [
    "# 24.Convert Tuple to a list?\n",
    "a=(1,2,3,4)\n",
    "print(list(a))"
   ]
  },
  {
   "cell_type": "code",
   "execution_count": 29,
   "id": "701fac26-d674-4cc2-a4ac-742908d64c8f",
   "metadata": {},
   "outputs": [
    {
     "name": "stdout",
     "output_type": "stream",
     "text": [
      "(2, 1, 3)\n"
     ]
    }
   ],
   "source": [
    "# 25.Convert list to tuple?\n",
    "a=[2,1,3]\n",
    "print(tuple(a))"
   ]
  },
  {
   "cell_type": "code",
   "execution_count": 2,
   "id": "3d4ce1ad-3d7f-446e-89e3-345f0364226b",
   "metadata": {},
   "outputs": [
    {
     "name": "stdout",
     "output_type": "stream",
     "text": [
      "{'a': 2, 'b': 3, 'e': 4}\n"
     ]
    }
   ],
   "source": [
    "# 26.Merge two dictionaries.?\n",
    "x={'a':2,'b':3}\n",
    "y={'e':4}\n",
    "x.update(y)\n",
    "print(x)"
   ]
  },
  {
   "cell_type": "code",
   "execution_count": 5,
   "id": "73d8296b-76d2-4b29-82db-745f04294128",
   "metadata": {
    "jp-MarkdownHeadingCollapsed": true
   },
   "outputs": [
    {
     "name": "stdout",
     "output_type": "stream",
     "text": [
      "{'c': 1, 'b': 2, 'a': 3}\n"
     ]
    }
   ],
   "source": [
    "# 27.Sort Dictionary by values?\n",
    "d={'a':3,'b':2,'c':1}\n",
    "print(dict(sorted(d.items(), key=lambda x:x[1])))"
   ]
  },
  {
   "cell_type": "code",
   "execution_count": 9,
   "id": "780b318a-6db6-4e0b-8cdd-428a5acef560",
   "metadata": {
    "jp-MarkdownHeadingCollapsed": true
   },
   "outputs": [
    {
     "name": "stdout",
     "output_type": "stream",
     "text": [
      "True\n"
     ]
    }
   ],
   "source": [
    "# 28.Check if a key exists in a dictionary?\n",
    "d={'a':3}\n",
    "print('a' in d)"
   ]
  },
  {
   "cell_type": "code",
   "execution_count": 11,
   "id": "bdb4da9b-885e-486b-bb50-ee1684be51ff",
   "metadata": {},
   "outputs": [
    {
     "name": "stdout",
     "output_type": "stream",
     "text": [
      "{'e': 3}\n"
     ]
    }
   ],
   "source": [
    "# 29.Remove key from a dictionary?\n",
    "d={'a':2,'e':3}\n",
    "del d['a']\n",
    "print(d)"
   ]
  },
  {
   "cell_type": "code",
   "execution_count": 12,
   "id": "4584bbf0-4b3c-491d-a041-01d27143f19b",
   "metadata": {
    "jp-MarkdownHeadingCollapsed": true
   },
   "outputs": [
    {
     "name": "stdout",
     "output_type": "stream",
     "text": [
      "dict_keys(['e', 's']) dict_values([2, 1])\n"
     ]
    }
   ],
   "source": [
    "# 30.Access dictionary keys and values?\n",
    "d={'e':2,'s':1}\n",
    "print(d.keys(),d.values())"
   ]
  },
  {
   "cell_type": "code",
   "execution_count": 13,
   "id": "3cfed0ef-bc62-432c-bc7d-6e043345fcdd",
   "metadata": {},
   "outputs": [
    {
     "name": "stdout",
     "output_type": "stream",
     "text": [
      "{1, 2, 3, 4, 5}\n"
     ]
    }
   ],
   "source": [
    "# 31.Use set to remove duplicates?\n",
    "lst={2,3,1,2,3,5,4}\n",
    "print(set(lst))"
   ]
  },
  {
   "cell_type": "code",
   "execution_count": 19,
   "id": "5d9dc14c-e355-40ac-bd0a-0100e7be36b4",
   "metadata": {},
   "outputs": [
    {
     "name": "stdout",
     "output_type": "stream",
     "text": [
      "{2, 3, 4, 6, 7}\n",
      "{2}\n"
     ]
    }
   ],
   "source": [
    "# 32.Set union and intersection?\n",
    "a={3,2,4}\n",
    "b={2,6,7}\n",
    "print(a | b)\n",
    "print(a & b)"
   ]
  },
  {
   "cell_type": "code",
   "execution_count": 20,
   "id": "423b9c1f-c922-4d4a-a40a-579fa2bbcf33",
   "metadata": {},
   "outputs": [
    {
     "name": "stdout",
     "output_type": "stream",
     "text": [
      "True True\n"
     ]
    }
   ],
   "source": [
    "# 33.Check subset and superset?\n",
    "a={1,2}\n",
    "b={1,2,3}\n",
    "print(a.issubset(b),b.issuperset(a))"
   ]
  },
  {
   "cell_type": "code",
   "execution_count": 21,
   "id": "a2a7718a-2cc0-4a59-97f5-a4feacfe5760",
   "metadata": {},
   "outputs": [
    {
     "name": "stdout",
     "output_type": "stream",
     "text": [
      "{1, 2, 3}\n"
     ]
    }
   ],
   "source": [
    "# 34.Get unique values from a list?\n",
    "lst={1,2,3}\n",
    "print(set(lst))"
   ]
  },
  {
   "cell_type": "code",
   "execution_count": 22,
   "id": "744de8be-a663-464a-8fa8-ae85e16eab05",
   "metadata": {},
   "outputs": [
    {
     "name": "stdout",
     "output_type": "stream",
     "text": [
      "{1}\n"
     ]
    }
   ],
   "source": [
    "# 35.Find two difference between two sets?\n",
    "a={2,1,3}\n",
    "b={3,2}\n",
    "print(a - b)"
   ]
  },
  {
   "cell_type": "markdown",
   "id": "87cd090c-1d11-4430-8d6b-b8d4d0136e90",
   "metadata": {},
   "source": [
    "---"
   ]
  }
 ],
 "metadata": {
  "kernelspec": {
   "display_name": "Python 3 (ipykernel)",
   "language": "python",
   "name": "python3"
  },
  "language_info": {
   "codemirror_mode": {
    "name": "ipython",
    "version": 3
   },
   "file_extension": ".py",
   "mimetype": "text/x-python",
   "name": "python",
   "nbconvert_exporter": "python",
   "pygments_lexer": "ipython3",
   "version": "3.10.16"
  }
 },
 "nbformat": 4,
 "nbformat_minor": 5
}
