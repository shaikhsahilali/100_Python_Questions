{
 "cells": [
  {
   "cell_type": "markdown",
   "id": "1ca9e576-5869-4786-b333-90009f86a9a3",
   "metadata": {},
   "source": [
    "# 15 Questions"
   ]
  },
  {
   "cell_type": "code",
   "execution_count": 2,
   "id": "b17f7c3b-63f7-4897-bb54-0af1e38aae27",
   "metadata": {
    "jp-MarkdownHeadingCollapsed": true
   },
   "outputs": [
    {
     "name": "stdout",
     "output_type": "stream",
     "text": [
      "4 2\n"
     ]
    }
   ],
   "source": [
    "# 1.Swap two variables without using a third variable.\n",
    "a,b=2,4\n",
    "b,a=a,b\n",
    "print(a,b)"
   ]
  },
  {
   "cell_type": "code",
   "execution_count": 8,
   "id": "50928c63-a401-4eb3-91ef-270adb10751a",
   "metadata": {},
   "outputs": [
    {
     "name": "stdin",
     "output_type": "stream",
     "text": [
      "Enter a number :\t 23\n"
     ]
    },
    {
     "name": "stdout",
     "output_type": "stream",
     "text": [
      "Odd\n"
     ]
    }
   ],
   "source": [
    "# 2.Check if number is Even or Odd?\n",
    "num=int(input(\"Enter a number :\\t\"))\n",
    "print(\"Even\" if num % 2==0 else \"Odd\")"
   ]
  },
  {
   "cell_type": "code",
   "execution_count": 16,
   "id": "851cf1da-0f86-4481-b278-b23c572e13dd",
   "metadata": {},
   "outputs": [
    {
     "name": "stdout",
     "output_type": "stream",
     "text": [
      "False\n",
      "True\n"
     ]
    }
   ],
   "source": [
    "# 3.Check if string is a palindrome?\n",
    "a='number'\n",
    "b='radar'\n",
    "print(a == a[::-1])\n",
    "print(b == b[::-1])"
   ]
  },
  {
   "cell_type": "code",
   "execution_count": 28,
   "id": "a32528c1-2667-4a2b-8704-61e68fe7b2b4",
   "metadata": {},
   "outputs": [
    {
     "name": "stdout",
     "output_type": "stream",
     "text": [
      "120\n"
     ]
    }
   ],
   "source": [
    "# 4.Find the factorial of a number using a recursion?\n",
    "def factorial(n):\n",
    "    return 1 if n == 0 else n*factorial(n-1)\n",
    "print(factorial(5))"
   ]
  },
  {
   "cell_type": "code",
   "execution_count": 34,
   "id": "43423b43-55bb-4363-828a-1433451c033d",
   "metadata": {},
   "outputs": [
    {
     "name": "stdout",
     "output_type": "stream",
     "text": [
      "32\n"
     ]
    }
   ],
   "source": [
    "# 5.Find the maximum of Three numbers?\n",
    "print(max(10,32,21))"
   ]
  },
  {
   "cell_type": "code",
   "execution_count": 25,
   "id": "cd6451ce-d753-49da-950c-470c8aae9d0e",
   "metadata": {},
   "outputs": [
    {
     "name": "stdout",
     "output_type": "stream",
     "text": [
      "True\n"
     ]
    }
   ],
   "source": [
    "# 6.Check if Number is prime?\n",
    "def is_prime(n):\n",
    "    return all(n % i !=0 for i in range(2,int(n*0.5)+1)) if n>1 else False\n",
    "print(is_prime(3))"
   ]
  },
  {
   "cell_type": "code",
   "execution_count": 29,
   "id": "fe9e4630-0315-4b49-953d-db690631f219",
   "metadata": {},
   "outputs": [
    {
     "name": "stdout",
     "output_type": "stream",
     "text": [
      "gnirts\n"
     ]
    }
   ],
   "source": [
    "# 7.Reverse a string?\n",
    "a='string'\n",
    "print(a[::-1])"
   ]
  },
  {
   "cell_type": "code",
   "execution_count": 33,
   "id": "dd193172-b13f-4147-8380-076a10fa8c0e",
   "metadata": {},
   "outputs": [
    {
     "name": "stdout",
     "output_type": "stream",
     "text": [
      "[0, 1, 1, 2, 3, 5, 8]\n"
     ]
    }
   ],
   "source": [
    "# 8.Generate a Fibonaci Series?\n",
    "def fib(n):\n",
    "    result = []\n",
    "    a, b = 0, 1\n",
    "    for _ in range(n):\n",
    "        result.append(a)\n",
    "        a, b = b, a + b\n",
    "    return result\n",
    "\n",
    "print(fib(7))"
   ]
  },
  {
   "cell_type": "code",
   "execution_count": 7,
   "id": "feb725d4-8a1e-4a78-b503-a688e7f1d8c7",
   "metadata": {},
   "outputs": [
    {
     "name": "stdin",
     "output_type": "stream",
     "text": [
      "enter no:\t 22\n"
     ]
    },
    {
     "name": "stdout",
     "output_type": "stream",
     "text": [
      "False\n",
      "22 is not an armstrong\n"
     ]
    }
   ],
   "source": [
    "# 9.Check for Armstrong number?\n",
    "n=int(input(\"enter no:\\t\"))\n",
    "print(n == sum(int(d)**3 for d in str(n)))\n",
    "if n== True:\n",
    "    print(f\"{n} is an armstrong\")\n",
    "else:\n",
    "    print(f\"{n} is not an armstrong\")"
   ]
  },
  {
   "cell_type": "code",
   "execution_count": 10,
   "id": "0379c082-a46f-423d-b460-9e9fabd4dcb1",
   "metadata": {},
   "outputs": [
    {
     "name": "stdout",
     "output_type": "stream",
     "text": [
      "4\n"
     ]
    }
   ],
   "source": [
    "# 10.Count Vowels in a String?\n",
    "s='Interview'\n",
    "print(sum(1 for c in s if c.lower() in 'aeiou'))"
   ]
  },
  {
   "cell_type": "code",
   "execution_count": 12,
   "id": "e3ee7670-d68c-4185-842d-f57020afc24b",
   "metadata": {},
   "outputs": [
    {
     "name": "stdout",
     "output_type": "stream",
     "text": [
      "6\n"
     ]
    }
   ],
   "source": [
    "# 11.Find sum of digits of numbers?\n",
    "n=123\n",
    "print(sum(int(i)for i in str(n)))"
   ]
  },
  {
   "cell_type": "code",
   "execution_count": 16,
   "id": "cad20cee-3325-47f0-b854-c29f3053ef2d",
   "metadata": {},
   "outputs": [
    {
     "name": "stdout",
     "output_type": "stream",
     "text": [
      "True\n"
     ]
    }
   ],
   "source": [
    "# 12.Check if year is a leap year?\n",
    "year= 2024\n",
    "print(year % 4==0 and (year % 100!=0  or year % 400==0))"
   ]
  },
  {
   "cell_type": "code",
   "execution_count": 17,
   "id": "2b65b965-d5e7-4013-8257-0a9b3eb40a70",
   "metadata": {},
   "outputs": [
    {
     "name": "stdout",
     "output_type": "stream",
     "text": [
      "2 3 5 7 11 13 17 19 "
     ]
    }
   ],
   "source": [
    "# 13.Print Prime number in range?\n",
    "for i in range(2,20):\n",
    "    if all(i % j !=0 for j in range(2,int(i**0.5)+1)):\n",
    "        print(i,end=' ')"
   ]
  },
  {
   "cell_type": "code",
   "execution_count": 24,
   "id": "10926270-f092-4f25-a4fc-99091c80febb",
   "metadata": {},
   "outputs": [
    {
     "name": "stdout",
     "output_type": "stream",
     "text": [
      "42\n"
     ]
    }
   ],
   "source": [
    "# 14.Sum of Even numbers in a list?\n",
    "nums=[2,1,3,5,4,6,8,10,12]\n",
    "print(sum(i for i in nums if i % 2 ==0))"
   ]
  },
  {
   "cell_type": "code",
   "execution_count": 33,
   "id": "ce8e6aab-f7ea-4470-9652-62c95999b928",
   "metadata": {},
   "outputs": [
    {
     "name": "stdout",
     "output_type": "stream",
     "text": [
      "True\n"
     ]
    }
   ],
   "source": [
    "# 15.Check if string Contains only digits.?\n",
    "print(\"12232\".isdigit())"
   ]
  },
  {
   "cell_type": "markdown",
   "id": "2873dc38-d936-44b9-873e-a443f7713ee2",
   "metadata": {},
   "source": [
    "----"
   ]
  },
  {
   "cell_type": "markdown",
   "id": "c02b70e6-aefb-4a53-9db9-d8fa648a2308",
   "metadata": {},
   "source": [
    "---"
   ]
  }
 ],
 "metadata": {
  "kernelspec": {
   "display_name": "Python 3 (ipykernel)",
   "language": "python",
   "name": "python3"
  },
  "language_info": {
   "codemirror_mode": {
    "name": "ipython",
    "version": 3
   },
   "file_extension": ".py",
   "mimetype": "text/x-python",
   "name": "python",
   "nbconvert_exporter": "python",
   "pygments_lexer": "ipython3",
   "version": "3.10.16"
  }
 },
 "nbformat": 4,
 "nbformat_minor": 5
}
